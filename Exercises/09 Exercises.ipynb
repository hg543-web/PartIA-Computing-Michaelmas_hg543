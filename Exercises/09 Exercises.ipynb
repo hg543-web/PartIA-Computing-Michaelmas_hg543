{
 "cells": [
  {
   "cell_type": "markdown",
   "metadata": {
    "deletable": false,
    "editable": false
   },
   "source": [
    "## Exercise 09.1 (checking data validity)\n",
    "\n",
    "The Fibonacci series is valid only for $n \\ge 0$. Add to the Fibonacci function in this notebook a check that raises an exception if $n < 0$. Try some invalid data cases to check that an exception is raised.\n",
    "\n",
    "*Optional:* Use `pytest` to test that an exception *is* raised for some $n < 0$ cases."
   ]
  },
  {
   "cell_type": "code",
   "execution_count": 8,
   "metadata": {
    "nbgrader": {
     "grade": false,
     "grade_id": "cell-982c3611466532a2",
     "locked": false,
     "schema_version": 3,
     "solution": true
    },
    "tags": [
     "otter_answer_cell"
    ]
   },
   "outputs": [],
   "source": [
    "def f(n): \n",
    "    \"Compute the nth Fibonacci number using recursion\"\n",
    "    ...\n",
    "    if n == 0:\n",
    "        return 0  # This doesn't call f, so it breaks out of the recursion loop, preventing an exception\n",
    "    elif n == 1:\n",
    "        return 1  # This doesn't call f, so it breaks out of the recursion loop, preventing an exception\n",
    "    elif n < 0:\n",
    "        raise ValueError(\"Negative number inputtted. Try again\")\n",
    "    else:\n",
    "        return f(n - 1) + f(n - 2)  # This calls f for n-1 and n-2 (recursion), and returns the sum\n",
    "         # This would not have worked with 0 and 1, since a negative number would have been called, leading to an exception"
   ]
  },
  {
   "cell_type": "code",
   "execution_count": 9,
   "metadata": {
    "deletable": false,
    "editable": false,
    "nbgrader": {
     "grade": true,
     "grade_id": "cell-9b97ea3e85d77f4a",
     "locked": true,
     "points": 0,
     "schema_version": 3,
     "solution": false
    }
   },
   "outputs": [],
   "source": [
    "## tests ##\n",
    "\n",
    "# Perform some tests    \n",
    "assert f(0) == 0\n",
    "assert f(1) == 1\n",
    "assert f(2) == 1\n",
    "assert f(3) == 2\n",
    "assert f(10) == 55\n",
    "assert f(15) == 610\n",
    "\n",
    "# Check that ValueError is raised for n < 0\n",
    "import pytest\n",
    "with pytest.raises(ValueError):\n",
    "    f(-1)\n",
    "with pytest.raises(ValueError):\n",
    "    f(-2)"
   ]
  },
  {
   "cell_type": "markdown",
   "metadata": {
    "deletable": false,
    "editable": false,
    "nbgrader": {
     "grade": false,
     "grade_id": "cell-69c78c0ffc19db36",
     "locked": true,
     "schema_version": 3,
     "solution": false
    }
   },
   "source": [
    "## Exercise 09.2 (raising exceptions)\n",
    "\n",
    "Modify your program from the bisection exercise in Activity 04 to raise an error if the maximum number of iterations is exceeded. Reduce the maximum allowed iterations to test that an exception is raised.\n",
    "\n",
    "Add any other checks on the input data that you think are appropriate."
   ]
  },
  {
   "cell_type": "code",
   "execution_count": 17,
   "metadata": {
    "nbgrader": {
     "grade": false,
     "grade_id": "cell-ca2c3ee62ad3b956",
     "locked": false,
     "schema_version": 3,
     "solution": true
    },
    "tags": [
     "otter_answer_cell"
    ]
   },
   "outputs": [],
   "source": [
    "def my_f(x):\n",
    "    \"\"\"Evaluate polynomial function\"\"\"\n",
    "    return x**5 / 10 + x**3 - 10 * x**2 + 4 * x + 7\n",
    "\n",
    "def compute_root(f, x0, x1, tol, max_it):\n",
    "    ...\n",
    "    error = tol + 1.0\n",
    "\n",
    "    it = 0\n",
    "    while error > tol: # Iterates until tolerance is met\n",
    "        x_mid = (x0 + x1) / 2\n",
    "\n",
    "        f0 = my_f(x0)\n",
    "        f_mid = my_f(x_mid)\n",
    "    \n",
    "        if f0*f_mid<0:\n",
    "            x1 = x_mid # change in sign, thus value of x decreases to find the point of sign-change\n",
    "        else:\n",
    "            x0 = x_mid # x0 increases since there has been no change in sign, and f(x) is positive when x=0\n",
    "        error = abs(f_mid)\n",
    "        \n",
    "        \n",
    "        if it > max_it:\n",
    "            raise RuntimeError(\"Too mamy iterations! Loop terminated\") # gives an error if the number of iterations exceeds that of the maximum\n",
    "        if tol == 0:\n",
    "            raise RangeError(\"Don't be so intolerant! tolerance, tol must be a positive number\") # makes sure tolerance will not lead to an infinite loop\n",
    "        if tol < 0:\n",
    "            raise RangeError(\"tolerance, tol must be a positive number\")\n",
    "        if it <= 0:\n",
    "            raise RangeError(\"Iteration, it must be a positive integer\")\n",
    "        print(it, x_mid, error)\n",
    "        it += 1\n",
    "    return x_mid, f_mid, it"
   ]
  },
  {
   "cell_type": "code",
   "execution_count": 14,
   "metadata": {
    "deletable": false,
    "editable": false,
    "nbgrader": {
     "grade": true,
     "grade_id": "cell-f6cf91ed5dd1736b",
     "locked": true,
     "points": 0,
     "schema_version": 3,
     "solution": false
    }
   },
   "outputs": [
    {
     "name": "stdout",
     "output_type": "stream",
     "text": [
      "0 1.0 2.0999999999999996\n",
      "1 1.5 5.365625000000001\n",
      "2 1.25 1.36669921875\n",
      "3 1.125 0.4477813720703132\n",
      "4 1.1875 0.4408627510070797\n",
      "5 1.15625 0.008327355980872753\n",
      "6 1.171875 0.21507753478363156\n",
      "7 1.1640625 0.1030741602036862\n",
      "8 1.16015625 0.04729774910292761\n",
      "9 1.158203125 0.019466230897839054\n",
      "10 1.1572265625 0.005564689502373099\n",
      "11 1.15673828125 0.0013825210451265946\n",
      "12 1.156982421875 0.0020907873792292975\n",
      "13 1.1568603515625 0.00035405894194262544\n",
      "14 1.15679931640625 0.0005142496094645566\n",
      "15 1.156829833984375 8.009997302949046e-05\n",
      "16 1.1568450927734375 0.00013697832466341708\n",
      "17 1.1568374633789062 2.8438885864900953e-05\n",
      "18 1.1568336486816406 2.5830616070976475e-05\n",
      "19 1.1568355560302734 1.304116775457942e-06\n",
      "20 1.156834602355957 1.2263254177469207e-05\n",
      "21 1.1568350791931152 5.479569834321296e-06\n",
      "22 1.1568353176116943 2.087726812760593e-06\n",
      "23 1.1568354368209839 3.9180508970559913e-07\n",
      "0 1.0 2.0999999999999996\n",
      "1 1.5 5.365625000000001\n",
      "2 1.25 1.36669921875\n",
      "3 1.125 0.4477813720703132\n",
      "4 1.1875 0.4408627510070797\n",
      "5 1.15625 0.008327355980872753\n",
      "6 1.171875 0.21507753478363156\n",
      "7 1.1640625 0.1030741602036862\n",
      "8 1.16015625 0.04729774910292761\n",
      "9 1.158203125 0.019466230897839054\n",
      "10 1.1572265625 0.005564689502373099\n",
      "11 1.15673828125 0.0013825210451265946\n",
      "12 1.156982421875 0.0020907873792292975\n",
      "13 1.1568603515625 0.00035405894194262544\n",
      "14 1.15679931640625 0.0005142496094645566\n",
      "15 1.156829833984375 8.009997302949046e-05\n",
      "16 1.1568450927734375 0.00013697832466341708\n",
      "17 1.1568374633789062 2.8438885864900953e-05\n",
      "18 1.1568336486816406 2.5830616070976475e-05\n",
      "19 1.1568355560302734 1.304116775457942e-06\n",
      "20 1.156834602355957 1.2263254177469207e-05\n"
     ]
    }
   ],
   "source": [
    "## tests ##\n",
    "\n",
    "# Test with max_it = 30\n",
    "x, f, num_it = compute_root(my_f, x0=0, x1=2, tol=1.0e-6, max_it=30)\n",
    "\n",
    "# Test with max_it = 20\n",
    "with pytest.raises(RuntimeError):\n",
    "    x, f, num_it = compute_root(my_f, x0=0, x1=2, tol=1.0e-6, max_it=20)"
   ]
  }
 ],
 "metadata": {
  "celltoolbar": "Create Assignment",
  "kernelspec": {
   "display_name": "Python 3 (ipykernel)",
   "language": "python",
   "name": "python3"
  },
  "language_info": {
   "codemirror_mode": {
    "name": "ipython",
    "version": 3
   },
   "file_extension": ".py",
   "mimetype": "text/x-python",
   "name": "python",
   "nbconvert_exporter": "python",
   "pygments_lexer": "ipython3",
   "version": "3.12.3"
  },
  "otter": {
   "OK_FORMAT": true,
   "assignment_name": "Exercises 9",
   "tests": {}
  }
 },
 "nbformat": 4,
 "nbformat_minor": 4
}
