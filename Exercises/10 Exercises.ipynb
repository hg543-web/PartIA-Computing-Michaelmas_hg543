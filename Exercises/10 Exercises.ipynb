{
 "cells": [
  {
   "cell_type": "markdown",
   "metadata": {
    "deletable": false,
    "editable": false
   },
   "source": [
    "## Exercise 10.1 (search)\n",
    "\n",
    "We want to find the largest and smallest values in a long list of numbers. Implement\n",
    "two algorithms, based on:\n",
    "\n",
    "1. Iterating over the list entries; and \n",
    "1. First applying a built-in sort operation to the list.\n",
    "\n",
    "Encapsulate each algorithm in a function. To create lists of numbers for testing use, for example:\n",
    "```python\n",
    "x = np.random.rand(1000)\n",
    "```"
   ]
  },
  {
   "cell_type": "markdown",
   "metadata": {
    "deletable": false,
    "editable": false
   },
   "source": [
    "### Solution\n",
    "\n",
    "We first create the list of random numbers"
   ]
  },
  {
   "cell_type": "code",
   "execution_count": 57,
   "metadata": {
    "deletable": false,
    "editable": false
   },
   "outputs": [],
   "source": [
    "import numpy as np\n",
    "x = np.random.rand(1000)"
   ]
  },
  {
   "cell_type": "markdown",
   "metadata": {
    "deletable": false,
    "editable": false
   },
   "source": [
    "#### Approach 1"
   ]
  },
  {
   "cell_type": "code",
   "execution_count": 58,
   "metadata": {
    "nbgrader": {
     "grade": false,
     "grade_id": "cell-78de0384c89f8cd3",
     "locked": false,
     "schema_version": 3,
     "solution": true
    },
    "tags": [
     "otter_answer_cell"
    ]
   },
   "outputs": [
    {
     "data": {
      "text/plain": [
       "(0.000274800752964488, 0.9970613032779639)"
      ]
     },
     "execution_count": 58,
     "metadata": {},
     "output_type": "execute_result"
    }
   ],
   "source": [
    "def min_max1(A):\n",
    "    ...\n",
    "  \n",
    "    A = A.copy()\n",
    "\n",
    "    # Perform sorting    \n",
    "    N = len(A)\n",
    "    while N > 0:\n",
    "        for i in range(N - 1):\n",
    "            # Swap data if in wrong order\n",
    "            if A[i] > A[i + 1]:\n",
    "                A[i + 1], A[i] = A[i], A[i + 1]\n",
    "        N = N - 1\n",
    "    for j in range (N - 1):\n",
    "        assert(A[j]<A[j+1]) # Unit test to make sure that each number is larger than the last in the ascending list\n",
    "        return A[0], A[-1]\n",
    "    \n",
    "    x_min = float(A[0])\n",
    "    x_max = float(A[-1])\n",
    "   # print(\"Minimum value: \" + str(x_min))\n",
    "  #  print(\"Maximum value: \" + str(x_max))\n",
    "    \n",
    "# The following lines of code have been ignored since I have made the minimum and maximum values the output of the function\n",
    "    \n",
    "    # return A\n",
    "    return  x_min, x_max # disignored for the sake of comparison\n",
    "\n",
    "    # print(min_max1(x))\n",
    "    # print(\"Minimum value: \" + x_min)\n",
    "    # print(\"Maximum value: \" + x_max)\n",
    "\n",
    "min_max1(x)"
   ]
  },
  {
   "cell_type": "markdown",
   "metadata": {
    "deletable": false,
    "editable": false
   },
   "source": [
    "#### Approach 2"
   ]
  },
  {
   "cell_type": "code",
   "execution_count": 59,
   "metadata": {
    "nbgrader": {
     "grade": false,
     "grade_id": "cell-dfd666bf7428bcdc",
     "locked": false,
     "schema_version": 3,
     "solution": true
    },
    "scrolled": true,
    "tags": [
     "otter_answer_cell"
    ]
   },
   "outputs": [
    {
     "data": {
      "text/plain": [
       "(0.000274800752964488, 0.9970613032779639)"
      ]
     },
     "execution_count": 59,
     "metadata": {},
     "output_type": "execute_result"
    }
   ],
   "source": [
    "def min_max2(A):\n",
    "    ...\n",
    "    A = A.copy()\n",
    "    A.sort()\n",
    "\n",
    "    x_min = float(A[0])\n",
    "    x_max = float(A[-1])\n",
    "\n",
    "    return x_min, x_max\n",
    "\n",
    "    \n",
    "min_max2(x)"
   ]
  },
  {
   "cell_type": "code",
   "execution_count": 60,
   "metadata": {
    "deletable": false,
    "editable": false,
    "nbgrader": {
     "grade": true,
     "grade_id": "cell-1fa6054c191acd87",
     "locked": true,
     "points": 0,
     "schema_version": 3,
     "solution": false
    }
   },
   "outputs": [],
   "source": [
    "## test ##\n",
    "assert min_max1(x) == min_max2(x)"
   ]
  },
  {
   "cell_type": "markdown",
   "metadata": {
    "deletable": false,
    "editable": false
   },
   "source": [
    "In practice, we would use the the NumPy function:"
   ]
  },
  {
   "cell_type": "code",
   "execution_count": 61,
   "metadata": {
    "deletable": false,
    "editable": false
   },
   "outputs": [
    {
     "name": "stdout",
     "output_type": "stream",
     "text": [
      "0.000274800752964488 0.9970613032779639\n"
     ]
    }
   ],
   "source": [
    "print(np.min(x), np.max(x))"
   ]
  },
  {
   "cell_type": "markdown",
   "metadata": {
    "deletable": false,
    "editable": false
   },
   "source": [
    "## Exercise 10.2 (Newton's method for root finding)\n",
    "\n",
    "### Background\n",
    "\n",
    "Newton's method can be used to find a root $x$ of a function $f(x)$ such that\n",
    "$$\n",
    "f(x) = 0\n",
    "$$\n",
    "A Taylor series expansion of $f$ about $x_{i}$ reads:\n",
    "$$\n",
    "f(x_{i+1}) = f(x_{i}) + \\left. f^{\\prime} \\right|_{x_{i}} (x_{i+1} - x_{i}) +  O((x_{i+1} - x_{i})^{2})\n",
    "$$\n",
    "If we neglect the higher-order terms and set $f(x_{i+1})$ to zero, we have Newton's method:\n",
    "\\begin{align}\n",
    "x_{i + 1} &= - \\frac{f(x_{i})}{f^{\\prime}(x_{i})} + x_{i}\n",
    "\\\\\n",
    "x_{i} &\\leftarrow x_{i+1}\n",
    "\\end{align}\n",
    "In Newton's method, the above is applied iteratively until $\\left|f(x_{i + 1})\\right|$ is below a tolerance value."
   ]
  },
  {
   "cell_type": "markdown",
   "metadata": {
    "deletable": false,
    "editable": false
   },
   "source": [
    "### Task\n",
    "\n",
    "Develop an implementation of Newton's method, with the following three functions in your implementation:\n",
    "```python\n",
    "def newton(f, df, x0, tol, max_it):\n",
    "    # Implement here\n",
    "\n",
    "    return x1  # return root\n",
    "```\n",
    "where `x0` is the initial guess, `tol` is the stopping tolerance, `max_it` is the maximum number \n",
    "of iterations, and \n",
    "```python\n",
    "def f(x):\n",
    "    # Evaluate function at x and return value\n",
    "\n",
    "\n",
    "def df(x):\n",
    "    # Evaluate df/dx at x and return value\n",
    "\n",
    "```\n",
    "\n",
    "Your implementation should raise an exception if the maximum number of iterations (`max_it`)\n",
    "is exceeded.\n",
    "\n",
    "Use your program to find the roots of:\n",
    "\n",
    "$$\n",
    "f(x) = \\tan(x) - 2x\n",
    "$$\n",
    "\n",
    "between $-\\pi/2$ and $\\pi/2$. Plot $f(x)$ and $f^{\\prime}(x)$ on the same graph, \n",
    "**and show all the roots** computed by Newton's method.\n",
    "\n",
    "Newton's method can be sensitive to the starting value. Make sure you find the root around $x = 1.2$. \n",
    "What happens if you start at $x = 0.9$? It may help to add a print statement in the iteration loop, \n",
    "showing $x$ and $f$ at each iteration.\n",
    "\n",
    "\n",
    "### Extension (optional)\n",
    "\n",
    "For a complicated function we might not know how to compute the derivative, or it may be very complicated\n",
    "to evaluate. Write a function that computes the *numerical derivative* of $f(x)$ by evaluating \n",
    "$(f(x + dx) - f(x - dx)) / (2dx)$, where $dx$ is small. How should you choose $dx$?"
   ]
  },
  {
   "cell_type": "markdown",
   "metadata": {
    "deletable": false,
    "editable": false
   },
   "source": [
    "### Solution\n",
    "\n",
    "We first implement a Newton solver function:"
   ]
  },
  {
   "cell_type": "code",
   "execution_count": 68,
   "metadata": {
    "nbgrader": {
     "grade": false,
     "grade_id": "cell-8b0ea0df543b1534",
     "locked": false,
     "schema_version": 3,
     "solution": true
    },
    "tags": [
     "otter_answer_cell"
    ]
   },
   "outputs": [],
   "source": [
    "def f(x):\n",
    "    ...\n",
    "    return np.tan(x) - 2*x # returns f(x)\n",
    "    \n",
    "    \n",
    "\n",
    "def df(x):\n",
    "    ...\n",
    "    return (1/(np.cos(x)))**2 - 2 # returns df(x)\n",
    "\n",
    "\n",
    "    "
   ]
  },
  {
   "cell_type": "code",
   "execution_count": 100,
   "metadata": {
    "nbgrader": {
     "grade": false,
     "grade_id": "cell-d67ac5bf99448637",
     "locked": false,
     "schema_version": 3,
     "solution": true
    },
    "tags": [
     "otter_answer_cell"
    ]
   },
   "outputs": [],
   "source": [
    "import numpy as np\n",
    "\n",
    "def newton(f, df, x, tol=1e-8, max_it=20):\n",
    "    \"\"\"Find root of equation defined by function f(x) where df(x) is\n",
    "    first derivative and x is the initial guess.Optional arguments tol \n",
    "    (tolerance) and max_it (maximum number of iterations)\"\"\"\n",
    "    \n",
    "    \n",
    "    ...\n",
    "    it = 0\n",
    "    max_it = 20\n",
    "    while it < max_it: # Iterates until tolerance is met\n",
    "        x_new=x-((f(x)/df(x))) # specifies new x for the sake of finding the error\n",
    "        error = abs(x-x_new)\n",
    "        x = x_new # redefine x new so it can be used in the next iteration\n",
    "      #  print(x) \n",
    "        it += 1\n",
    "       # print(error) \n",
    "        if error == 0: # ends the function when the error of x becomes zero\n",
    "            return x\n",
    "    return x\n",
    "    \n",
    "\n",
    "    \n"
   ]
  },
  {
   "cell_type": "markdown",
   "metadata": {
    "deletable": false,
    "editable": false
   },
   "source": [
    "We now provide implementations of `f` and `df`, and find the roots:"
   ]
  },
  {
   "cell_type": "code",
   "execution_count": 101,
   "metadata": {
    "nbgrader": {
     "grade": false,
     "grade_id": "cell-8b0ea0df5fef43b1534",
     "locked": false,
     "schema_version": 3,
     "solution": true
    },
    "tags": [
     "otter_answer_cell"
    ]
   },
   "outputs": [],
   "source": [
    "## tests ##\n",
    "\n",
    "# Find roots near -1.2, 0.1, and 1.2\n",
    "xroots = np.array((newton(f, df, -1.2),\n",
    "                   newton(f, df, 0.1),\n",
    "                   newton(f, df, 1.2)))\n",
    "assert np.isclose(xroots, [-1.16556119e+00, 2.08575213e-10, 1.16556119e+00]).all()"
   ]
  },
  {
   "cell_type": "code",
   "execution_count": 102,
   "metadata": {
    "nbgrader": {
     "grade": false,
     "grade_id": "cell-997c8b60a3053a38",
     "locked": false,
     "schema_version": 3,
     "solution": true
    },
    "tags": [
     "otter_answer_cell"
    ]
   },
   "outputs": [
    {
     "data": {
      "image/png": "[encoded data removed]",
      "text/plain": [
       "<Figure size 640x480 with 1 Axes>"
      ]
     },
     "metadata": {},
     "output_type": "display_data"
    }
   ],
   "source": [
    "# We can visualise the result:\n",
    "    \n",
    "%matplotlib inline\n",
    "import matplotlib.pyplot as plt\n",
    "\n",
    "# Plot f and df/dx\n",
    "x = np.linspace(-1.5, 1.5, 100)\n",
    "plt.plot(x, f(x), label='$f(x)$')\n",
    "plt.plot(x, df(x), label=\"$f^{prime}(x)$\")\n",
    "\n",
    "# Add location of roots to plot\n",
    "...\n",
    "plt.plot(newton(f, df, -1.2),0,'xb') # plots the calculated root on the x axis\n",
    "plt.plot(newton(f, df, 0.1),0,'xb')\n",
    "plt.plot(newton(f, df, 1.2),0,'xb')\n",
    "\n",
    "plt.show()"
   ]
  },
  {
   "cell_type": "markdown",
   "metadata": {
    "deletable": false,
    "editable": false
   },
   "source": [
    "For the extension, we can replace the function `df(x)` with a new version"
   ]
  },
  {
   "cell_type": "code",
   "execution_count": null,
   "metadata": {
    "nbgrader": {
     "grade": false,
     "grade_id": "cell-3d320bc0309566f1",
     "locked": false,
     "schema_version": 3,
     "solution": true
    },
    "tags": [
     "otter_answer_cell"
    ]
   },
   "outputs": [],
   "source": [
    "def df(x):\n",
    "    # Try changing dx to 1e-15 or smaller\n",
    "    dx = 1e-9\n",
    "    ..."
   ]
  },
  {
   "cell_type": "code",
   "execution_count": null,
   "metadata": {
    "nbgrader": {
     "grade": true,
     "grade_id": "cell-3d320bc0309566f1wew",
     "locked": true,
     "points": 0,
     "schema_version": 3,
     "solution": false
    },
    "tags": [
     "otter_answer_cell"
    ]
   },
   "outputs": [],
   "source": [
    "## tests ##\n",
    "\n",
    "# Find roots near -1.2, 0.1, and 1.2\n",
    "xroots = np.array((newton(f, df, -1.2),\n",
    "                   newton(f, df, 0.1),\n",
    "                   newton(f, df, 1.2)))\n",
    "assert np.isclose(xroots, [-1.16556119e+00, 2.08575213e-10, 1.16556119e+00]).all()"
   ]
  },
  {
   "cell_type": "code",
   "execution_count": null,
   "metadata": {
    "nbgrader": {
     "grade": false,
     "grade_id": "cell-f6c6dafb16f9b2a8",
     "locked": false,
     "schema_version": 3,
     "solution": true
    },
    "tags": [
     "otter_answer_cell"
    ]
   },
   "outputs": [],
   "source": [
    "# Plot f, f' and roots\n",
    "\n",
    "..."
   ]
  },
  {
   "cell_type": "markdown",
   "metadata": {
    "deletable": false,
    "editable": false
   },
   "source": [
    "In practice, we could use the Newton function `scipy.optimize.newton` from SciPy (https://docs.scipy.org/doc/scipy/reference/generated/scipy.optimize.newton.html) rather than implementing our own function."
   ]
  },
  {
   "cell_type": "markdown",
   "metadata": {
    "deletable": false,
    "editable": false
   },
   "source": [
    "## Exercise 10.3 (optional, low pass image filter)\n",
    "\n",
    "Image files can be loaded as NumPy arrays displayed with Matplotlib. An imported colour image is stored as a \n",
    "three-dimensional NumPy array of floats. The shape of the array is `[0:nx, 0:ny, 0:3]`. \n",
    "where `nx` is the number of pixels in the $x$-direction, `ny` is the number of pixels in the $y$-direction,\n",
    "and the third axis is for the colour component (RGB: red, green and blue) intensity.\n",
    "For a greyscale image, for each pixel we have either an integer (typically in the range [0, 255]) or a float (in the range [0, 1.0]).\n",
    "\n",
    "Below we fetch an image and display it:"
   ]
  },
  {
   "cell_type": "code",
   "execution_count": null,
   "metadata": {
    "deletable": false,
    "editable": false
   },
   "outputs": [],
   "source": [
    "%matplotlib inline\n",
    "import PIL\n",
    "import urllib\n",
    "import matplotlib.pyplot as plt\n",
    "\n",
    "# Import image\n",
    "url = 'https://raw.githubusercontent.com/matplotlib/matplotlib.github.com/main/3.5.3/_images/stinkbug.png'\n",
    "img = np.array(PIL.Image.open(urllib.request.urlopen(url)))\n",
    "\n",
    "# Check type and shape\n",
    "print(type(img))\n",
    "print(f\"Image array shape: {img.shape}\")\n",
    "print(f\"Image pixel type: {img.dtype}\")\n",
    "\n",
    "# Convert pixel data from 8-bit integers [0, 255] to floats in range [0, 1]\n",
    "img = np.float64(img) / 255\n",
    "\n",
    "# Display image\n",
    "plt.imshow(img);"
   ]
  },
  {
   "cell_type": "markdown",
   "metadata": {
    "deletable": false,
    "editable": false
   },
   "source": [
    "The task is to write a *function* that applies a particular low-pass filter algorithm to an image array \n",
    "and  returns the  filtered image. With this particular filter, the value of a pixel in the filtered image \n",
    "is equal to the average value of the four neighbouring pixels in the original image. For the `[i, j, :]` pixel, \n",
    "the neighbours are  `[i, j+1, :]`, `[i, j-1, :]`, `[i+1, j, :]` and  `[i-1, j, :]`. \n",
    "\n",
    "Run the filter algorithm multiple times on the above image to explore the effect of the filter.\n",
    "\n",
    "*Hint*: To create a NumPy array of zeros, `B`,  with the same shape as array `A`, use:\n",
    "```python\n",
    "import numpy as np\n",
    "B = np.zeros_like(A)\n",
    "```"
   ]
  },
  {
   "cell_type": "code",
   "execution_count": null,
   "metadata": {
    "nbgrader": {
     "grade": false,
     "grade_id": "cell-8bc3a81c6142b437",
     "locked": false,
     "schema_version": 3,
     "solution": true
    },
    "tags": [
     "otter_answer_cell"
    ]
   },
   "outputs": [],
   "source": [
    "..."
   ]
  }
 ],
 "metadata": {
  "celltoolbar": "Create Assignment",
  "kernelspec": {
   "display_name": "Python 3 (ipykernel)",
   "language": "python",
   "name": "python3"
  },
  "language_info": {
   "codemirror_mode": {
    "name": "ipython",
    "version": 3
   },
   "file_extension": ".py",
   "mimetype": "text/x-python",
   "name": "python",
   "nbconvert_exporter": "python",
   "pygments_lexer": "ipython3",
   "version": "3.12.3"
  },
  "otter": {
   "OK_FORMAT": true,
   "assignment_name": "Exercises 10",
   "tests": {}
  }
 },
 "nbformat": 4,
 "nbformat_minor": 4
}
